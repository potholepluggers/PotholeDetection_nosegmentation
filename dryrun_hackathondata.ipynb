{
 "cells": [
  {
   "cell_type": "code",
   "execution_count": null,
   "metadata": {},
   "outputs": [],
   "source": [
    "from keras.utils import Sequence\n",
    "from keras.models import Sequential\n",
    "from keras.layers import TimeDistributed, Reshape,Permute,MaxPooling2D, LSTM,Dense,Lambda, Activation, BatchNormalization, Bidirectional, GRU, LeakyReLU, Dropout, Conv2D, Flatten, Input\n",
    "from keras.applications.inception_v3 import InceptionV3\n",
    "from keras.models import Model\n",
    "from keras import optimizers\n",
    "import numpy as np \n",
    "import cv2 \n",
    "import os\n",
    "import random"
   ]
  },
  {
   "cell_type": "code",
   "execution_count": null,
   "metadata": {},
   "outputs": [],
   "source": [
    "'''\n",
    "     PUT ME OUTSIDE THE TRAIN/TEST FOLDERS WITHIN THE DATASET FOLDER.\n",
    "'''\n"
   ]
  },
  {
   "cell_type": "code",
   "execution_count": null,
   "metadata": {},
   "outputs": [],
   "source": [
    "# #make the directories to store the resized images...\n",
    "# #DO NOT RUN ME AFTER THE FOLDERS ARE POPULATED!\n",
    "# os.makedirs(\"./train/positive/resized\")\n",
    "# os.makedirs(\"./train/negative/resized\")\n",
    "\n",
    "# os.makedirs(\"./test/positive/resized\")\n",
    "# os.makedirs(\"./test/negative/resized\")\n"
   ]
  },
  {
   "cell_type": "code",
   "execution_count": null,
   "metadata": {},
   "outputs": [],
   "source": [
    "# #run for positive, negative in train and test.\n",
    "# dir = \"./test/negative/\"\n",
    "# for root,dirs,files in os.walk(dir): #code to walk the directory\n",
    "#     for x,file in enumerate(files): \n",
    "#         curdir =  os.path.join(root,file) #current directory\n",
    "#         img = cv2.imread(curdir) #read in the image we are currently pointing at \n",
    "#         img = cv2.resize(img, (299,299)) #resize that image down to a size we can feed into the network\n",
    "#         cv2.imwrite(dir+\"resized/%d.jpg\" % x, img) #write our new resized image to the resized directory w/name as num"
   ]
  },
  {
   "cell_type": "code",
   "execution_count": 2,
   "metadata": {},
   "outputs": [],
   "source": [
    "#if you think you can fit the images in ram, make this a 1...\n",
    "'''this flag just means whether or not the training images\n",
    "   will reside in memory or not, otherwise they're read off the\n",
    "   disk in real time..'''\n",
    "\n",
    "inmemory =0 #just kidding, it's not entirely clear if this is sooo much faster, not worth it .\n",
    "if inmemory:\n",
    "    potholes = [cv2.imread('./train/positive/resized/%d.jpg' % x,1) for x in range(1661)]\n",
    "    not_potholes = [cv2.imread('./train/negative/resized/%d.jpg' % x,1) for x in range(2365)]\n",
    "    "
   ]
  },
  {
   "cell_type": "code",
   "execution_count": 3,
   "metadata": {},
   "outputs": [],
   "source": [
    "'''\n",
    "    note the sizes of the images are all 299,299, and then the 3 indicates an R, G, and B channel on each image.\n",
    "'''\n",
    "if inmemory:\n",
    "    potholes = np.asarray(potholes)\n",
    "    not_potholes = np.asarray(not_potholes)\n",
    "    print (potholes.shape)\n",
    "    print (not_potholes.shape) "
   ]
  },
  {
   "cell_type": "code",
   "execution_count": 4,
   "metadata": {},
   "outputs": [],
   "source": [
    "#datagenerator compliant with the KERAS api \n",
    "trainlen_norm = list(range(1660))\n",
    "trainlen_not = list(range(2364))\n",
    "class DataGenTRAIN(Sequence):\n",
    "        def __init__(self, tot_ex, batch_size = 32):\n",
    "                self.batch_size = batch_size\n",
    "                self.tot_ex = tot_ex\n",
    "                self.on_epoch_end()\n",
    "                self.lwr = 0\n",
    "                self.upr = batch_size\n",
    "                self.half = batch_size\n",
    "                list_ = list(range(0,self.tot_ex))\n",
    "                np.random.shuffle(list_)\n",
    "                self.master = list_\n",
    "        def __getitem__(self, index):\n",
    "                indices = self.master[self.lwr:self.upr]\n",
    "                (X,y) =  self.__data_generation(indices = indices )\n",
    "                self.lwr += self.half\n",
    "                self.upr +=self.half\n",
    "                return (X,y)\n",
    "\n",
    "        def __len__(self):\n",
    "                return int(np.floor((self.tot_ex) / self.batch_size))\n",
    "        def on_epoch_end(self):\n",
    "                self.lwr = 0\n",
    "                self.upr = self.batch_size\n",
    "                return\n",
    "\n",
    "        def __data_generation(self, indices):\n",
    "                #X, X_1 are both good and bad images, then they get shuffled along with their indices\n",
    "                normidxs = random.sample(trainlen_norm, self.batch_size//2) \n",
    "                notidxs = random.sample(trainlen_not, self.batch_size//2)\n",
    "                if inmemory:\n",
    "                    X= np.array([potholes[x] for x in normidxs])\n",
    "                else:\n",
    "                    X= np.array([cv2.imread('./train/positive/resized/%d.jpg' % x,1) for x in normidxs])\n",
    "                Y = np.ones(self.batch_size//2)\n",
    "                \n",
    "                if inmemory:\n",
    "                    X_1= np.array([not_potholes[x] for x in normidxs])\n",
    "                else:\n",
    "                    X_1= np.array([cv2.imread('./train/negative/resized/%d.jpg' % x,1) for x in notidxs])\n",
    "                Y_1 = np.zeros(self.batch_size//2) \n",
    "                indices = list(range(self.batch_size))\n",
    "                np.random.shuffle(indices)\n",
    "                X = np.append(X,X_1, axis =0)\n",
    "                Y = np.append(Y,Y_1,axis=0)\n",
    "                #print(len(X))\n",
    "                #print(len(Y))\n",
    "                X = X[indices] \n",
    "                Y = Y[indices]                \n",
    "                return (X,Y)"
   ]
  },
  {
   "cell_type": "code",
   "execution_count": 5,
   "metadata": {},
   "outputs": [],
   "source": [
    "#we will use InceptionV3 with a custom top and train...\n",
    "#inception is a stock network that we will top off, these are famous nets that have won the 'ImageNet' competition\n",
    "inception = InceptionV3(include_top=False, weights='imagenet', classes = 1)\n",
    "input = Input(shape = (299,299,3))\n",
    "x = inception(input)\n",
    "x = Flatten()(x) \n",
    "x = Dense(128, activation = 'relu')(x) \n",
    "x = Dense(16, activation = 'relu')(x)\n",
    "output = Dense(1, activation = 'sigmoid')(x)"
   ]
  },
  {
   "cell_type": "code",
   "execution_count": 6,
   "metadata": {},
   "outputs": [
    {
     "name": "stderr",
     "output_type": "stream",
     "text": [
      "C:\\Users\\Erik\\Anaconda3\\lib\\site-packages\\ipykernel_launcher.py:1: UserWarning: Update your `Model` call to the Keras 2 API: `Model(inputs=Tensor(\"in..., outputs=Tensor(\"de...)`\n",
      "  \"\"\"Entry point for launching an IPython kernel.\n"
     ]
    },
    {
     "name": "stdout",
     "output_type": "stream",
     "text": [
      "Epoch 1/3\n",
      "203/203 [==============================] - 37s 182ms/step - loss: 0.2296\n",
      "Epoch 2/3\n",
      "203/203 [==============================] - 24s 120ms/step - loss: 0.0785\n",
      "Epoch 3/3\n",
      "203/203 [==============================] - 24s 119ms/step - loss: 0.0592\n"
     ]
    },
    {
     "data": {
      "text/plain": [
       "<keras.callbacks.History at 0x2776a99ac18>"
      ]
     },
     "execution_count": 6,
     "metadata": {},
     "output_type": "execute_result"
    }
   ],
   "source": [
    "model = Model(input = input, output = output)\n",
    "sgd = optimizers.SGD(lr=0.001, momentum=0.9, decay=1e-6, nesterov=True)\n",
    "model.compile(loss='binary_crossentropy', optimizer=sgd)\n",
    "\n",
    "traingenerator = DataGenTRAIN(batch_size = 8, tot_ex =1630)\n",
    "\n",
    "model.fit_generator(generator=traingenerator,workers=1, epochs = 3)\n"
   ]
  },
  {
   "cell_type": "code",
   "execution_count": null,
   "metadata": {},
   "outputs": [],
   "source": [
    "'''\n",
    "    MAKE TESTING CODE \n",
    "    CHECK FOR BUGS, CONFIRM IN INMEMORY IS ACTUALLY FASTER OR NOT \n",
    "    ~~~\n",
    "\n",
    "'''"
   ]
  }
 ],
 "metadata": {
  "kernelspec": {
   "display_name": "Python 3",
   "language": "python",
   "name": "python3"
  },
  "language_info": {
   "codemirror_mode": {
    "name": "ipython",
    "version": 3
   },
   "file_extension": ".py",
   "mimetype": "text/x-python",
   "name": "python",
   "nbconvert_exporter": "python",
   "pygments_lexer": "ipython3",
   "version": "3.6.5"
  }
 },
 "nbformat": 4,
 "nbformat_minor": 2
}
