{
  "nbformat": 4,
  "nbformat_minor": 0,
  "metadata": {
    "colab": {
      "name": "colab_hackathon_dryrun.ipynb",
      "version": "0.3.2",
      "provenance": []
    },
    "kernelspec": {
      "name": "python3",
      "display_name": "Python 3"
    },
    "accelerator": "GPU"
  },
  "cells": [
    {
      "metadata": {
        "id": "d07l_bioouo-",
        "colab_type": "code",
        "colab": {}
      },
      "cell_type": "code",
      "source": [
        ""
      ],
      "execution_count": 0,
      "outputs": []
    },
    {
      "metadata": {
        "id": "nTSOlZkmo13Z",
        "colab_type": "code",
        "colab": {}
      },
      "cell_type": "code",
      "source": [
        "# from tensorflow.python.client import device_lib\n",
        "# print(device_lib.list_local_devices())"
      ],
      "execution_count": 0,
      "outputs": []
    },
    {
      "metadata": {
        "id": "eNPqbCN3o2jm",
        "colab_type": "code",
        "colab": {
          "base_uri": "https://localhost:8080/",
          "height": 124
        },
        "outputId": "287d5f5e-1123-457d-c617-fa8e1ac04df7"
      },
      "cell_type": "code",
      "source": [
        "from google.colab import drive\n",
        "drive.mount('/content/drive')"
      ],
      "execution_count": 4,
      "outputs": [
        {
          "output_type": "stream",
          "text": [
            "Go to this URL in a browser: https://accounts.google.com/o/oauth2/auth?client_id=947318989803-6bn6qk8qdgf4n4g3pfee6491hc0brc4i.apps.googleusercontent.com&redirect_uri=urn%3Aietf%3Awg%3Aoauth%3A2.0%3Aoob&scope=email%20https%3A%2F%2Fwww.googleapis.com%2Fauth%2Fdocs.test%20https%3A%2F%2Fwww.googleapis.com%2Fauth%2Fdrive%20https%3A%2F%2Fwww.googleapis.com%2Fauth%2Fdrive.photos.readonly%20https%3A%2F%2Fwww.googleapis.com%2Fauth%2Fpeopleapi.readonly&response_type=code\n",
            "\n",
            "Enter your authorization code:\n",
            "··········\n",
            "Mounted at /content/drive\n"
          ],
          "name": "stdout"
        }
      ]
    },
    {
      "metadata": {
        "id": "_LQ2sW74rkFT",
        "colab_type": "code",
        "colab": {
          "base_uri": "https://localhost:8080/",
          "height": 34
        },
        "outputId": "a3bf5cad-6556-4430-ba26-c9663f651b97"
      },
      "cell_type": "code",
      "source": [
        "!ls \"./drive/My Drive/Dataset/potholedataset\""
      ],
      "execution_count": 12,
      "outputs": [
        {
          "output_type": "stream",
          "text": [
            "dryrun_hackathondata.ipynb  test  train\n"
          ],
          "name": "stdout"
        }
      ]
    },
    {
      "metadata": {
        "id": "626Jm6u-rtsb",
        "colab_type": "code",
        "colab": {}
      },
      "cell_type": "code",
      "source": [
        ""
      ],
      "execution_count": 0,
      "outputs": []
    },
    {
      "metadata": {
        "id": "1yIzza1isVdM",
        "colab_type": "code",
        "colab": {
          "base_uri": "https://localhost:8080/",
          "height": 34
        },
        "outputId": "d9289dd0-1394-43f1-b33b-b96962822a67"
      },
      "cell_type": "code",
      "source": [
        "from keras.utils import Sequence\n",
        "from keras.models import Sequential\n",
        "from keras.layers import TimeDistributed, Reshape,Permute,MaxPooling2D, LSTM,Dense,Lambda, Activation, BatchNormalization, Bidirectional, GRU, LeakyReLU, Dropout, Conv2D, Flatten, Input\n",
        "from keras.applications.inception_v3 import InceptionV3\n",
        "from keras.models import Model\n",
        "from keras import optimizers\n",
        "import numpy as np \n",
        "import cv2 \n",
        "import os\n",
        "import random"
      ],
      "execution_count": 1,
      "outputs": [
        {
          "output_type": "stream",
          "text": [
            "Using TensorFlow backend.\n"
          ],
          "name": "stderr"
        }
      ]
    },
    {
      "metadata": {
        "id": "snlpgd3MEnFt",
        "colab_type": "code",
        "colab": {}
      },
      "cell_type": "code",
      "source": [
        ""
      ],
      "execution_count": 0,
      "outputs": []
    },
    {
      "metadata": {
        "id": "132dQjDKtKGd",
        "colab_type": "code",
        "colab": {
          "base_uri": "https://localhost:8080/",
          "height": 52
        },
        "outputId": "6daf100c-5ab5-4de1-cd3b-88f4186ed918"
      },
      "cell_type": "code",
      "source": [
        "#if you think you can fit the images in ram, make this a 1...\n",
        "'''this flag just means whether or not the training images\n",
        "   will reside in memory or not, otherwise they're read off the\n",
        "   disk in real time during training..'''\n",
        "\n",
        "inmemory =1 #just kidding, it's not entirely clear if this is sooo much faster, not worth it . UNLESS ON COLAB, PUT IN MEMORY!!!\n",
        "if inmemory:\n",
        "    potholes = [cv2.imread('./drive/My Drive/Dataset/potholedataset/train/positive/resized/%d.jpg' % x,1) for x in range(1661)]\n",
        "    print (\"Original potholes\")\n",
        "    not_potholes = [cv2.imread('./drive/My Drive/Dataset/potholedataset/train/negative/resized/%d.jpg' % x,1) for x in range(1661)] #2364 orig len\n",
        "    print (\"Not potholes done\")\n",
        "    "
      ],
      "execution_count": 3,
      "outputs": [
        {
          "output_type": "stream",
          "text": [
            "Original potholes\n",
            "Not potholes done\n"
          ],
          "name": "stdout"
        }
      ]
    },
    {
      "metadata": {
        "id": "JJnN1PEMtKcb",
        "colab_type": "code",
        "colab": {
          "base_uri": "https://localhost:8080/",
          "height": 52
        },
        "outputId": "fe41493e-18b2-475a-a405-b78fc1b517d5"
      },
      "cell_type": "code",
      "source": [
        "'''\n",
        "    note the sizes of the images are all 299,299, and then the 3 indicates an R, G, and B channel on each image.\n",
        "'''\n",
        "if inmemory:\n",
        "    potholes = np.asarray(potholes)\n",
        "    not_potholes = np.asarray(not_potholes)\n",
        "    print (potholes.shape)\n",
        "    print (not_potholes.shape) "
      ],
      "execution_count": 4,
      "outputs": [
        {
          "output_type": "stream",
          "text": [
            "(1661, 299, 299, 3)\n",
            "(1661, 299, 299, 3)\n"
          ],
          "name": "stdout"
        }
      ]
    },
    {
      "metadata": {
        "id": "x9MdiKMisfPh",
        "colab_type": "code",
        "colab": {}
      },
      "cell_type": "code",
      "source": [
        "#datagenerator compliant with the KERAS api \n",
        "trainlen_norm = list(range(1661))\n",
        "trainlen_not = list(range(1661))\n",
        "class DataGenTRAIN(Sequence):\n",
        "        def __init__(self, tot_ex, batch_size = 32):\n",
        "                self.batch_size = batch_size\n",
        "                self.tot_ex = tot_ex\n",
        "                self.on_epoch_end()\n",
        "                self.lwr = 0\n",
        "                self.upr = batch_size\n",
        "                self.half = batch_size\n",
        "                list_ = list(range(0,self.tot_ex))\n",
        "                np.random.shuffle(list_)\n",
        "                self.master = list_\n",
        "        def __getitem__(self, index):\n",
        "                indices = self.master[self.lwr:self.upr]\n",
        "                (X,y) =  self.__data_generation(indices = indices )\n",
        "                self.lwr += self.half\n",
        "                self.upr +=self.half\n",
        "                return (X,y)\n",
        "\n",
        "        def __len__(self):\n",
        "                return int(np.floor((self.tot_ex) / self.batch_size))\n",
        "        def on_epoch_end(self):\n",
        "                self.lwr = 0\n",
        "                self.upr = self.batch_size\n",
        "                return\n",
        "\n",
        "        def __data_generation(self, indices):\n",
        "                #X, X_1 are both good and bad images, then they get shuffled along with their indices\n",
        "                normidxs = random.sample(trainlen_norm, self.batch_size//2) \n",
        "                notidxs = random.sample(trainlen_not, self.batch_size//2)\n",
        "                if inmemory:\n",
        "                    X= np.array([potholes[x] for x in normidxs])\n",
        "                else:\n",
        "                    X= np.array([cv2.imread('./drive/My Drive/Dataset/potholedataset/train/positive/resized/%d.jpg' % x,1) for x in normidxs])\n",
        "                Y = np.ones(self.batch_size//2)\n",
        "                \n",
        "                if inmemory:\n",
        "                    X_1= np.array([not_potholes[x] for x in notidxs])\n",
        "                else:\n",
        "                    X_1= np.array([cv2.imread('./drive/My Drive/Dataset/potholedataset/train/negative/resized/%d.jpg' % x,1) for x in notidxs])\n",
        "                Y_1 = np.zeros(self.batch_size//2) \n",
        "                indices = list(range(self.batch_size))\n",
        "                np.random.shuffle(indices)\n",
        "                X = np.append(X,X_1, axis =0)\n",
        "                Y = np.append(Y,Y_1,axis=0)\n",
        "                #print(len(X))\n",
        "                #print(len(Y))\n",
        "                X = X[indices] \n",
        "                Y = Y[indices]                \n",
        "                return (X,Y)"
      ],
      "execution_count": 0,
      "outputs": []
    },
    {
      "metadata": {
        "id": "QrpskQaPsjfY",
        "colab_type": "code",
        "colab": {}
      },
      "cell_type": "code",
      "source": [
        "#we will use InceptionV3 with a custom top and train...\n",
        "#inception is a stock network that we will top off, these are famous nets that have won the 'ImageNet' competition\n",
        "inception = InceptionV3(include_top=False, weights='imagenet', classes = 1)\n",
        "input = Input(shape = (299,299,3))\n",
        "x = inception(input)\n",
        "x = Flatten()(x) \n",
        "#x = Dense(4, activation = 'relu')(x)\n",
        "output = Dense(1, activation = 'sigmoid')(x)"
      ],
      "execution_count": 0,
      "outputs": []
    },
    {
      "metadata": {
        "id": "muS2UhBjsuLK",
        "colab_type": "code",
        "colab": {
          "base_uri": "https://localhost:8080/",
          "height": 262
        },
        "outputId": "332ef66d-81ef-487a-81ee-eed7946380e5"
      },
      "cell_type": "code",
      "source": [
        "model = Model(input = input, output = output)\n",
        "sgd = optimizers.SGD(lr=0.001, momentum=0.9, decay=1e-6, nesterov=True)\n",
        "model.compile(loss='binary_crossentropy', optimizer=sgd)\n",
        "\n",
        "traingenerator = DataGenTRAIN(batch_size = 8, tot_ex =1661)\n",
        "\n",
        "model.fit_generator(generator=traingenerator,workers=1, epochs = 5)\n"
      ],
      "execution_count": 8,
      "outputs": [
        {
          "output_type": "stream",
          "text": [
            "/usr/local/lib/python3.6/dist-packages/ipykernel_launcher.py:1: UserWarning: Update your `Model` call to the Keras 2 API: `Model(inputs=Tensor(\"in..., outputs=Tensor(\"de...)`\n",
            "  \"\"\"Entry point for launching an IPython kernel.\n"
          ],
          "name": "stderr"
        },
        {
          "output_type": "stream",
          "text": [
            "Epoch 1/5\n",
            "207/207 [==============================] - 101s 489ms/step - loss: 1.1190\n",
            "Epoch 2/5\n",
            "207/207 [==============================] - 87s 420ms/step - loss: 0.3038\n",
            "Epoch 3/5\n",
            "207/207 [==============================] - 87s 421ms/step - loss: 0.0735\n",
            "Epoch 4/5\n",
            "207/207 [==============================] - 87s 421ms/step - loss: 0.0496\n",
            "Epoch 5/5\n",
            "207/207 [==============================] - 87s 422ms/step - loss: 0.0344\n"
          ],
          "name": "stdout"
        },
        {
          "output_type": "execute_result",
          "data": {
            "text/plain": [
              "<keras.callbacks.History at 0x7fe26377fcc0>"
            ]
          },
          "metadata": {
            "tags": []
          },
          "execution_count": 8
        }
      ]
    },
    {
      "metadata": {
        "id": "k_Uhdlo-Lf7F",
        "colab_type": "code",
        "colab": {}
      },
      "cell_type": "code",
      "source": [
        "# model.fit_generator(generator=traingenerator,workers=1, epochs = 7)"
      ],
      "execution_count": 0,
      "outputs": []
    },
    {
      "metadata": {
        "id": "LlI3yNAQJNkK",
        "colab_type": "code",
        "colab": {
          "base_uri": "https://localhost:8080/",
          "height": 52
        },
        "outputId": "13892257-a813-4a41-a0a8-5bdb9809e7c7"
      },
      "cell_type": "code",
      "source": [
        "#if you think you can fit the images in ram, make this a 1...\n",
        "'''this flag just means whether or not the training images\n",
        "   will reside in memory or not, otherwise they're read off the\n",
        "   disk in real time during training..'''\n",
        "\n",
        "testlen_norm = list(range(650))\n",
        "testlen_not = list(range(1000))\n",
        "\n",
        "inmemory =1 #just kidding, it's not entirely clear if this is sooo much faster, not worth it . UNLESS ON COLAB, PUT IN MEMORY!!!\n",
        "if inmemory:\n",
        "    potholes_test = np.array([cv2.imread('./drive/My Drive/Dataset/potholedataset/test/positive/resized/%d.jpg' % x,1) for x in testlen_norm])\n",
        "    print (\"Original potholes\")\n",
        "    not_potholes_test = np.array([cv2.imread('./drive/My Drive/Dataset/potholedataset/test/negative/resized/%d.jpg' % x,1) for x in testlen_not])\n",
        "    print (\"Not potholes done\")\n",
        "    "
      ],
      "execution_count": 10,
      "outputs": [
        {
          "output_type": "stream",
          "text": [
            "Original potholes\n",
            "Not potholes done\n"
          ],
          "name": "stdout"
        }
      ]
    },
    {
      "metadata": {
        "id": "5n_iODHTMm3s",
        "colab_type": "code",
        "colab": {
          "base_uri": "https://localhost:8080/",
          "height": 52
        },
        "outputId": "022d2b7b-3a77-4d34-9979-e2b62471230c"
      },
      "cell_type": "code",
      "source": [
        "print (potholes_test.shape)\n",
        "print (not_potholes_test.shape)"
      ],
      "execution_count": 11,
      "outputs": [
        {
          "output_type": "stream",
          "text": [
            "(650, 299, 299, 3)\n",
            "(1000, 299, 299, 3)\n"
          ],
          "name": "stdout"
        }
      ]
    },
    {
      "metadata": {
        "id": "dvDt3B7nIFYY",
        "colab_type": "code",
        "colab": {}
      },
      "cell_type": "code",
      "source": [
        "\n",
        "gt = np.array([])\n",
        "class DataGenTEST(Sequence):\n",
        "        def __init__(self, tot_ex, batch_size = 32):\n",
        "                self.batch_size = batch_size\n",
        "                self.tot_ex = tot_ex\n",
        "                self.lwr = 0\n",
        "                self.upr = batch_size\n",
        "                list_ = list(range(0,self.tot_ex))\n",
        "                np.random.shuffle(list_)\n",
        "                self.master = list_\n",
        "        def __getitem__(self, index):\n",
        "                indices = self.master[self.lwr:self.upr]\n",
        "                (X,y) =  self.__data_generation(indices = indices )\n",
        "                self.lwr += self.batch_size\n",
        "                self.upr +=self.batch_size\n",
        "                return (X,y)\n",
        "\n",
        "        def __len__(self):\n",
        "                return (self.tot_ex) // self.batch_size\n",
        "        def on_epoch_end(self):\n",
        "                self.lwr = 0\n",
        "                self.upr = self.batch_size\n",
        "                return\n",
        "\n",
        "        def __data_generation(self, indices):\n",
        "                normidxs = random.sample(testlen_norm, self.batch_size//2) \n",
        "                notidxs = random.sample(testlen_not, self.batch_size//2)\n",
        "                X= [potholes_test[x] for x in normidxs]\n",
        "                Y = np.ones(self.batch_size//2)\n",
        "                X_1= [not_potholes_test[x] for x in notidxs]\n",
        "                Y_1 = np.zeros(self.batch_size//2) \n",
        "                indices = list(range(self.batch_size))\n",
        "                np.random.shuffle(indices)\n",
        "                X = np.append(X,X_1, axis =0)\n",
        "                Y = np.append(Y,Y_1,axis=0)\n",
        "                #print(len(X))\n",
        "                #print(len(Y))\n",
        "                X = X[indices] \n",
        "                Y = Y[indices] \n",
        "                global gt\n",
        "                gt = np.append(gt, Y, axis =0)\n",
        "                return (X,Y)"
      ],
      "execution_count": 0,
      "outputs": []
    },
    {
      "metadata": {
        "id": "5-Gx5pJIs_Wq",
        "colab_type": "code",
        "colab": {}
      },
      "cell_type": "code",
      "source": [
        "testgenerator = DataGenTEST(batch_size = 10, tot_ex = 900)\n",
        "\n",
        "sample = model.predict_generator(generator=testgenerator,workers=1)\n",
        "for x in range(len(sample)):\n",
        "    if sample[x] < .5:\n",
        "        sample[x] =0\n",
        "    else:\n",
        "        sample[x] =1"
      ],
      "execution_count": 0,
      "outputs": []
    },
    {
      "metadata": {
        "id": "Lzrx1mlJIsi2",
        "colab_type": "code",
        "colab": {
          "base_uri": "https://localhost:8080/",
          "height": 34
        },
        "outputId": "f5d93cc9-7771-4466-c2cb-b21361a8a08b"
      },
      "cell_type": "code",
      "source": [
        "from sklearn.metrics import accuracy_score\n",
        "accuracy_score(gt, sample)"
      ],
      "execution_count": 14,
      "outputs": [
        {
          "output_type": "execute_result",
          "data": {
            "text/plain": [
              "0.7811111111111111"
            ]
          },
          "metadata": {
            "tags": []
          },
          "execution_count": 14
        }
      ]
    },
    {
      "metadata": {
        "id": "Q4C9xkFTOCd7",
        "colab_type": "code",
        "colab": {}
      },
      "cell_type": "code",
      "source": [
        ""
      ],
      "execution_count": 0,
      "outputs": []
    },
    {
      "metadata": {
        "id": "C6PfOcAcd7oG",
        "colab_type": "code",
        "colab": {}
      },
      "cell_type": "code",
      "source": [
        ""
      ],
      "execution_count": 0,
      "outputs": []
    }
  ]
}